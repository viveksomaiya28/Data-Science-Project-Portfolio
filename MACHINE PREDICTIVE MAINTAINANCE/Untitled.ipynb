{
 "cells": [
  {
   "cell_type": "code",
   "execution_count": 2,
   "id": "0982ef5d-1c82-4e06-851b-fe78e9ee256f",
   "metadata": {},
   "outputs": [
    {
     "name": "stdout",
     "output_type": "stream",
     "text": [
      "First few rows of the dataset:\n",
      "   engine_id  cycle  setting1  setting2  setting3  sensor1  sensor2  sensor3  \\\n",
      "0          1      1   -0.0007   -0.0004     100.0   518.67   641.82  1589.70   \n",
      "1          1      2    0.0019   -0.0003     100.0   518.67   642.15  1591.82   \n",
      "2          1      3   -0.0043    0.0003     100.0   518.67   642.35  1587.99   \n",
      "3          1      4    0.0007    0.0000     100.0   518.67   642.35  1582.79   \n",
      "4          1      5   -0.0019   -0.0002     100.0   518.67   642.37  1582.85   \n",
      "\n",
      "   sensor4  sensor5  ...  sensor12  sensor13  sensor14  sensor15  sensor16  \\\n",
      "0  1400.60    14.62  ...    521.66   2388.02   8138.62    8.4195      0.03   \n",
      "1  1403.14    14.62  ...    522.28   2388.07   8131.49    8.4318      0.03   \n",
      "2  1404.20    14.62  ...    522.42   2388.03   8133.23    8.4178      0.03   \n",
      "3  1401.87    14.62  ...    522.86   2388.08   8133.83    8.3682      0.03   \n",
      "4  1406.22    14.62  ...    522.19   2388.04   8133.80    8.4294      0.03   \n",
      "\n",
      "   sensor17  sensor18  sensor19  sensor20  sensor21  \n",
      "0       392      2388     100.0     39.06   23.4190  \n",
      "1       392      2388     100.0     39.00   23.4236  \n",
      "2       390      2388     100.0     38.95   23.3442  \n",
      "3       392      2388     100.0     38.88   23.3739  \n",
      "4       393      2388     100.0     38.90   23.4044  \n",
      "\n",
      "[5 rows x 26 columns]\n",
      "\n",
      "Dataset Info:\n",
      "<class 'pandas.core.frame.DataFrame'>\n",
      "RangeIndex: 20631 entries, 0 to 20630\n",
      "Data columns (total 26 columns):\n",
      " #   Column     Non-Null Count  Dtype  \n",
      "---  ------     --------------  -----  \n",
      " 0   engine_id  20631 non-null  int64  \n",
      " 1   cycle      20631 non-null  int64  \n",
      " 2   setting1   20631 non-null  float64\n",
      " 3   setting2   20631 non-null  float64\n",
      " 4   setting3   20631 non-null  float64\n",
      " 5   sensor1    20631 non-null  float64\n",
      " 6   sensor2    20631 non-null  float64\n",
      " 7   sensor3    20631 non-null  float64\n",
      " 8   sensor4    20631 non-null  float64\n",
      " 9   sensor5    20631 non-null  float64\n",
      " 10  sensor6    20631 non-null  float64\n",
      " 11  sensor7    20631 non-null  float64\n",
      " 12  sensor8    20631 non-null  float64\n",
      " 13  sensor9    20631 non-null  float64\n",
      " 14  sensor10   20631 non-null  float64\n",
      " 15  sensor11   20631 non-null  float64\n",
      " 16  sensor12   20631 non-null  float64\n",
      " 17  sensor13   20631 non-null  float64\n",
      " 18  sensor14   20631 non-null  float64\n",
      " 19  sensor15   20631 non-null  float64\n",
      " 20  sensor16   20631 non-null  float64\n",
      " 21  sensor17   20631 non-null  int64  \n",
      " 22  sensor18   20631 non-null  int64  \n",
      " 23  sensor19   20631 non-null  float64\n",
      " 24  sensor20   20631 non-null  float64\n",
      " 25  sensor21   20631 non-null  float64\n",
      "dtypes: float64(22), int64(4)\n",
      "memory usage: 4.1 MB\n",
      "None\n"
     ]
    }
   ],
   "source": [
    "import pandas as pd\n",
    "import numpy as np\n",
    "columns = [\n",
    "    'engine_id', 'cycle',\n",
    "    'setting1', 'setting2', 'setting3',  \n",
    "    'sensor1', 'sensor2', 'sensor3', 'sensor4', 'sensor5', \n",
    "    'sensor6', 'sensor7', 'sensor8', 'sensor9', 'sensor10',\n",
    "    'sensor11', 'sensor12', 'sensor13', 'sensor14', 'sensor15',\n",
    "    'sensor16', 'sensor17', 'sensor18', 'sensor19', 'sensor20', 'sensor21'\n",
    "]\n",
    "train_df = pd.read_csv('train_FD001.txt', sep='\\s+', header=None, names=columns)\n",
    "print(\"First few rows of the dataset:\")\n",
    "print(train_df.head())\n",
    "print(\"\\nDataset Info:\")\n",
    "print(train_df.info())"
   ]
  },
  {
   "cell_type": "code",
   "execution_count": 4,
   "id": "7e071399-6b5f-4abf-b7f5-10aa4244cf28",
   "metadata": {},
   "outputs": [
    {
     "name": "stdout",
     "output_type": "stream",
     "text": [
      "Data saved to data/train_processed.csv\n"
     ]
    }
   ],
   "source": [
    "train_df.to_csv('train_processed.csv', index=False)\n",
    "print(\"Data saved to data/train_processed.csv\")"
   ]
  },
  {
   "cell_type": "code",
   "execution_count": 5,
   "id": "68fa0e7d-210c-4245-8e1b-57383a6e6aa8",
   "metadata": {},
   "outputs": [],
   "source": [
    "test_df = pd.read_csv('test_FD001.txt', sep='\\s+', header=None, names=columns)\n",
    "rul_df = pd.read_csv('RUL_FD001.txt', sep='\\s+', header=None, names=['rul'])\n",
    "\n",
    "# saves to CSV\n",
    "test_df.to_csv('test_processed.csv', index=False)\n",
    "rul_df.to_csv('rul_processed.csv', index=False)"
   ]
  },
  {
   "cell_type": "code",
   "execution_count": null,
   "id": "d76560bf-8cf6-4da0-82ea-649356bec323",
   "metadata": {},
   "outputs": [],
   "source": []
  }
 ],
 "metadata": {
  "kernelspec": {
   "display_name": "Python 3 (ipykernel)",
   "language": "python",
   "name": "python3"
  },
  "language_info": {
   "codemirror_mode": {
    "name": "ipython",
    "version": 3
   },
   "file_extension": ".py",
   "mimetype": "text/x-python",
   "name": "python",
   "nbconvert_exporter": "python",
   "pygments_lexer": "ipython3",
   "version": "3.10.9"
  }
 },
 "nbformat": 4,
 "nbformat_minor": 5
}
